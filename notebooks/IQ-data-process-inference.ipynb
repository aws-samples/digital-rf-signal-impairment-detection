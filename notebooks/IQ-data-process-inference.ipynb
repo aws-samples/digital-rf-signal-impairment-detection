{
 "cells": [
  {
   "cell_type": "markdown",
   "id": "e39c7c3f",
   "metadata": {},
   "source": [
    "# IQ Noise Detection Inference\n",
    "This Notebook assumes post pass JSON reports of IQ Constellation plots\n",
    "1. Apply KMeans Clustering to map blobs to clusters\n",
    "2. Extract Blob Shape by applying Covariance Error Ellipse\n",
    "3. Plot new metrics next to raw blob plot\n",
    "4. Use AutoGluon Classifier to infer Interference/Phase Noise/Amplifier Gain Noise\n",
    "5. Write report to S3"
   ]
  },
  {
   "cell_type": "markdown",
   "id": "62811193",
   "metadata": {},
   "source": [
    "conda_python3, ml.m5.xlarge"
   ]
  },
  {
   "cell_type": "code",
   "execution_count": 40,
   "id": "8ea7d132-60ac-4f89-b1d4-ddcd5ffc6782",
   "metadata": {
    "tags": []
   },
   "outputs": [],
   "source": [
    "model_path = \"ENTER_MODEL_PATH\" # See output of IQ-data-train-classifier.ipynb\n",
    "bucket_name = \"BUCKET_NAME\" # Bucket to output inference insights"
   ]
  },
  {
   "cell_type": "code",
   "execution_count": null,
   "id": "0b6bc5c3",
   "metadata": {
    "tags": []
   },
   "outputs": [],
   "source": [
    "!pip install autogluon"
   ]
  },
  {
   "cell_type": "code",
   "execution_count": 30,
   "id": "3384ba8e-87e1-4eff-ba3f-999ee92d9d53",
   "metadata": {
    "tags": []
   },
   "outputs": [],
   "source": [
    "import warnings\n",
    "warnings.filterwarnings(\"ignore\")\n",
    "\n",
    "import pandas as pd\n",
    "from autogluon.tabular import TabularDataset, TabularPredictor"
   ]
  },
  {
   "cell_type": "code",
   "execution_count": 37,
   "id": "a67a10d8",
   "metadata": {
    "tags": []
   },
   "outputs": [],
   "source": [
    "import sagemaker\n",
    "import json\n",
    "import numpy as np\n",
    "import pandas as pd\n",
    "import matplotlib.pyplot as plt\n",
    "import boto3\n",
    "import time\n",
    "import datetime\n",
    "import os\n",
    "from sklearn.cluster import KMeans\n",
    "from matplotlib.patches import Ellipse\n",
    "from matplotlib.path import Path\n",
    "from time import gmtime, strftime\n",
    "import io\n",
    "\n",
    "s3 = boto3.client('s3')\n",
    "\n",
    "from utility import confidence_ellipse, line_distance"
   ]
  },
  {
   "cell_type": "code",
   "execution_count": 32,
   "id": "df0f6bb3",
   "metadata": {
    "tags": []
   },
   "outputs": [],
   "source": [
    "# Constants\n",
    "STD_DEV = 2.5\n",
    "CLUSTERS = 32 # todo read out of report.json"
   ]
  },
  {
   "cell_type": "markdown",
   "id": "a7540399",
   "metadata": {},
   "source": [
    "## Extract Blob Shape Metrics, Covariance Error Ellipse"
   ]
  },
  {
   "cell_type": "code",
   "execution_count": 33,
   "id": "5164ad97",
   "metadata": {
    "tags": []
   },
   "outputs": [],
   "source": [
    "def process(timestamps, data_type, flag=False):\n",
    "    result_buffer = []\n",
    "    for i in range(len(timestamps)):\n",
    "\n",
    "        X = timestamps[i]\n",
    "        real = np.real(X)\n",
    "        imag = np.imag(X)\n",
    "        X = np.concatenate([real.reshape(-1, 1), imag.reshape(-1, 1)], axis=1)\n",
    "        \n",
    "        # Map Blobs into clusters\n",
    "        y_pred = KMeans(n_clusters=CLUSTERS).fit_predict(X)\n",
    "\n",
    "        # Plot with clusters\n",
    "        axs[i][0].scatter(X[:, 0], X[:, 1], c=y_pred)\n",
    "        \n",
    "        # Build object of {cluster, [x,y]}\n",
    "        Y = []\n",
    "        for j in range(CLUSTERS):\n",
    "            Y.append([])\n",
    "        for j in range(len(X)):\n",
    "            Y[y_pred[j]].append(X[j])\n",
    "        if (flag):\n",
    "            Y = np.array(np.array([np.array(Y) for Y in Y], dtype=object), dtype=np.float32)\n",
    "        else:\n",
    "            Y = np.array(np.array([np.array(Y) for Y in Y], dtype=object), dtype=object)\n",
    "\n",
    "        density = []\n",
    "        ratio = []\n",
    "        major_axis = []\n",
    "        minor_axis = []\n",
    "        major_rotation = 0\n",
    "\n",
    "        for j in range(len(Y)):\n",
    "            # Generate Ellipse\n",
    "            ellipse = confidence_ellipse(Y[j][:,0], Y[j][:,1], n_std=STD_DEV)\n",
    "            maj_axis = [ellipse['center'][0], ellipse['center'][0]+ellipse['major_axis'][0]], [ellipse['center'][1], ellipse['center'][1]+ellipse['major_axis'][1]]\n",
    "            min_axis = [ellipse['center'][0], ellipse['center'][0]+ellipse['minor_axis'][0]], [ellipse['center'][1], ellipse['center'][1]+ellipse['minor_axis'][1]]\n",
    "            res = line_distance(maj_axis, min_axis, (0,0))\n",
    "            if (not res):\n",
    "                major_rotation += 1\n",
    "            major_axis.append(maj_axis)\n",
    "            minor_axis.append(min_axis)\n",
    "            density.append(ellipse['density'])\n",
    "            ratio.append(ellipse['ratio'])\n",
    "\n",
    "            # Add to plot\n",
    "            axs[i][1].add_patch(ellipse['ellipse'])\n",
    "            axs[i][1].plot([ellipse['center'][0], ellipse['center'][0]+ellipse['major_axis'][0]], [ellipse['center'][1], ellipse['center'][1]+ellipse['major_axis'][1]], color='r', linewidth=2)\n",
    "            axs[i][1].plot([ellipse['center'][0], ellipse['center'][0]+ellipse['minor_axis'][0]], [ellipse['center'][1], ellipse['center'][1]+ellipse['minor_axis'][1]], color='g', linewidth=2)        \n",
    "            axs[i][1].plot(Y[j][:,0], Y[j][:,1], 'o')\n",
    "            \n",
    "        # Analyze features\n",
    "        major_axis_np = np.array(major_axis)\n",
    "        minor_axis_np = np.array(minor_axis)\n",
    "        density_np = np.array(density)\n",
    "        ratio_np = np.array(ratio)\n",
    "        result_buffer.append( {\n",
    "            'density_avg': np.mean(density_np, axis=0), \n",
    "            'density_std': np.std(density_np, axis=0), \n",
    "            'ratio_avg': np.mean(ratio_np, axis=0), \n",
    "            'ratio_std': np.std(ratio_np, axis=0),\n",
    "            'major_axis_avg': np.mean(major_axis_np, axis=0), \n",
    "            'major_axis_std': np.std(major_axis_np, axis=0),\n",
    "            'minor_axis_avg': np.mean(minor_axis_np, axis=0), \n",
    "            'minor_axis_std': np.std(minor_axis_np, axis=0),            \n",
    "            'rotation': (major_rotation /CLUSTERS), \n",
    "            'blobs': CLUSTERS})\n",
    "    return result_buffer"
   ]
  },
  {
   "cell_type": "markdown",
   "id": "47afcfb2",
   "metadata": {},
   "source": [
    "## Process sample data"
   ]
  },
  {
   "cell_type": "code",
   "execution_count": null,
   "id": "e27a6323-eeb8-4580-973a-f28fffb7c93f",
   "metadata": {
    "tags": []
   },
   "outputs": [],
   "source": [
    "data_type = ''\n",
    "timestamps = []\n",
    "\n",
    "# -------------- Parse -------------- #\n",
    "\n",
    "fn = os.listdir('./inference')\n",
    "for f in fn:\n",
    "    if (data_type == 'compression'):\n",
    "        timestamps.append(np.load('./data/%s/%s' % ( file_path,f), allow_pickle=True))\n",
    "    else:\n",
    "        timestamps.append(np.fromfile(open('./inference/%s' % f), dtype=np.complex64))\n",
    "fig, axs = plt.subplots(nrows=len(timestamps), ncols=2, figsize=(20, 60))\n",
    "\n",
    "# -------------- Pre-process -------------- #\n",
    "\n",
    "result = process(timestamps, data_type, False)\n",
    "\n",
    "res_df = pd.DataFrame.from_dict(result)\n",
    "res_df['filename'] = fn\n",
    "\n",
    "# -------------- Classify -------------- #\n",
    "\n",
    "predictor = TabularPredictor.load(model_path)\n",
    "predictions = []\n",
    "for index, row in res_df.iterrows():\n",
    "    new_data = pd.DataFrame({\n",
    "    'density_avg': row.density_avg,\n",
    "    'density_std': row.density_std,\n",
    "    'ratio_avg': row.ratio_avg,\n",
    "    'ratio_std': row.ratio_std,\n",
    "    'rotation': row.rotation,\n",
    "    'blobs_4': [0],\n",
    "    'blobs_8': [0],\n",
    "    'blobs_16': [0],\n",
    "    'blobs_32': [1]\n",
    "    })\n",
    "\n",
    "    predictions.append({\"class\": predictor.predict(new_data), \"fileId\": row.filename})\n",
    "predictions\n",
    "\n",
    "# -------------- Export Results -------------- #\n",
    "\n",
    "write_buffer = []\n",
    "for j in predictions:\n",
    "    if (j['class'][0] != \"normal\"):\n",
    "        mydata = {\"class\": j['class'][0], \"timestamp\": time.time(), \"fileId\": j['fileId']}\n",
    "        write_buffer.append(mydata)\n",
    "\n",
    "if (len(write_buffer) > 0):\n",
    "    sttime = datetime.datetime.fromtimestamp(time.time()).strftime('%Y%m%d%H%M%S.json')\n",
    "    print(write_buffer)\n",
    "    # Write output to S3\n",
    "    s3.put_object(Body=json.dumps(write_buffer), Bucket=bucket_name, Key='digital_rf_detection/'+sttime)\n",
    "\n",
    "plt.show()"
   ]
  },
  {
   "cell_type": "code",
   "execution_count": null,
   "id": "0a4da56d-1d38-4bf7-9528-905c9e6e88ab",
   "metadata": {
    "tags": []
   },
   "outputs": [],
   "source": []
  },
  {
   "cell_type": "code",
   "execution_count": null,
   "id": "5ceccb5f-07f8-4e2a-a770-9a31c2f2a880",
   "metadata": {},
   "outputs": [],
   "source": []
  }
 ],
 "metadata": {
  "availableInstances": [
   {
    "_defaultOrder": 0,
    "_isFastLaunch": true,
    "category": "General purpose",
    "gpuNum": 0,
    "hideHardwareSpecs": false,
    "memoryGiB": 4,
    "name": "ml.t3.medium",
    "vcpuNum": 2
   },
   {
    "_defaultOrder": 1,
    "_isFastLaunch": false,
    "category": "General purpose",
    "gpuNum": 0,
    "hideHardwareSpecs": false,
    "memoryGiB": 8,
    "name": "ml.t3.large",
    "vcpuNum": 2
   },
   {
    "_defaultOrder": 2,
    "_isFastLaunch": false,
    "category": "General purpose",
    "gpuNum": 0,
    "hideHardwareSpecs": false,
    "memoryGiB": 16,
    "name": "ml.t3.xlarge",
    "vcpuNum": 4
   },
   {
    "_defaultOrder": 3,
    "_isFastLaunch": false,
    "category": "General purpose",
    "gpuNum": 0,
    "hideHardwareSpecs": false,
    "memoryGiB": 32,
    "name": "ml.t3.2xlarge",
    "vcpuNum": 8
   },
   {
    "_defaultOrder": 4,
    "_isFastLaunch": true,
    "category": "General purpose",
    "gpuNum": 0,
    "hideHardwareSpecs": false,
    "memoryGiB": 8,
    "name": "ml.m5.large",
    "vcpuNum": 2
   },
   {
    "_defaultOrder": 5,
    "_isFastLaunch": false,
    "category": "General purpose",
    "gpuNum": 0,
    "hideHardwareSpecs": false,
    "memoryGiB": 16,
    "name": "ml.m5.xlarge",
    "vcpuNum": 4
   },
   {
    "_defaultOrder": 6,
    "_isFastLaunch": false,
    "category": "General purpose",
    "gpuNum": 0,
    "hideHardwareSpecs": false,
    "memoryGiB": 32,
    "name": "ml.m5.2xlarge",
    "vcpuNum": 8
   },
   {
    "_defaultOrder": 7,
    "_isFastLaunch": false,
    "category": "General purpose",
    "gpuNum": 0,
    "hideHardwareSpecs": false,
    "memoryGiB": 64,
    "name": "ml.m5.4xlarge",
    "vcpuNum": 16
   },
   {
    "_defaultOrder": 8,
    "_isFastLaunch": false,
    "category": "General purpose",
    "gpuNum": 0,
    "hideHardwareSpecs": false,
    "memoryGiB": 128,
    "name": "ml.m5.8xlarge",
    "vcpuNum": 32
   },
   {
    "_defaultOrder": 9,
    "_isFastLaunch": false,
    "category": "General purpose",
    "gpuNum": 0,
    "hideHardwareSpecs": false,
    "memoryGiB": 192,
    "name": "ml.m5.12xlarge",
    "vcpuNum": 48
   },
   {
    "_defaultOrder": 10,
    "_isFastLaunch": false,
    "category": "General purpose",
    "gpuNum": 0,
    "hideHardwareSpecs": false,
    "memoryGiB": 256,
    "name": "ml.m5.16xlarge",
    "vcpuNum": 64
   },
   {
    "_defaultOrder": 11,
    "_isFastLaunch": false,
    "category": "General purpose",
    "gpuNum": 0,
    "hideHardwareSpecs": false,
    "memoryGiB": 384,
    "name": "ml.m5.24xlarge",
    "vcpuNum": 96
   },
   {
    "_defaultOrder": 12,
    "_isFastLaunch": false,
    "category": "General purpose",
    "gpuNum": 0,
    "hideHardwareSpecs": false,
    "memoryGiB": 8,
    "name": "ml.m5d.large",
    "vcpuNum": 2
   },
   {
    "_defaultOrder": 13,
    "_isFastLaunch": false,
    "category": "General purpose",
    "gpuNum": 0,
    "hideHardwareSpecs": false,
    "memoryGiB": 16,
    "name": "ml.m5d.xlarge",
    "vcpuNum": 4
   },
   {
    "_defaultOrder": 14,
    "_isFastLaunch": false,
    "category": "General purpose",
    "gpuNum": 0,
    "hideHardwareSpecs": false,
    "memoryGiB": 32,
    "name": "ml.m5d.2xlarge",
    "vcpuNum": 8
   },
   {
    "_defaultOrder": 15,
    "_isFastLaunch": false,
    "category": "General purpose",
    "gpuNum": 0,
    "hideHardwareSpecs": false,
    "memoryGiB": 64,
    "name": "ml.m5d.4xlarge",
    "vcpuNum": 16
   },
   {
    "_defaultOrder": 16,
    "_isFastLaunch": false,
    "category": "General purpose",
    "gpuNum": 0,
    "hideHardwareSpecs": false,
    "memoryGiB": 128,
    "name": "ml.m5d.8xlarge",
    "vcpuNum": 32
   },
   {
    "_defaultOrder": 17,
    "_isFastLaunch": false,
    "category": "General purpose",
    "gpuNum": 0,
    "hideHardwareSpecs": false,
    "memoryGiB": 192,
    "name": "ml.m5d.12xlarge",
    "vcpuNum": 48
   },
   {
    "_defaultOrder": 18,
    "_isFastLaunch": false,
    "category": "General purpose",
    "gpuNum": 0,
    "hideHardwareSpecs": false,
    "memoryGiB": 256,
    "name": "ml.m5d.16xlarge",
    "vcpuNum": 64
   },
   {
    "_defaultOrder": 19,
    "_isFastLaunch": false,
    "category": "General purpose",
    "gpuNum": 0,
    "hideHardwareSpecs": false,
    "memoryGiB": 384,
    "name": "ml.m5d.24xlarge",
    "vcpuNum": 96
   },
   {
    "_defaultOrder": 20,
    "_isFastLaunch": false,
    "category": "General purpose",
    "gpuNum": 0,
    "hideHardwareSpecs": true,
    "memoryGiB": 0,
    "name": "ml.geospatial.interactive",
    "supportedImageNames": [
     "sagemaker-geospatial-v1-0"
    ],
    "vcpuNum": 0
   },
   {
    "_defaultOrder": 21,
    "_isFastLaunch": true,
    "category": "Compute optimized",
    "gpuNum": 0,
    "hideHardwareSpecs": false,
    "memoryGiB": 4,
    "name": "ml.c5.large",
    "vcpuNum": 2
   },
   {
    "_defaultOrder": 22,
    "_isFastLaunch": false,
    "category": "Compute optimized",
    "gpuNum": 0,
    "hideHardwareSpecs": false,
    "memoryGiB": 8,
    "name": "ml.c5.xlarge",
    "vcpuNum": 4
   },
   {
    "_defaultOrder": 23,
    "_isFastLaunch": false,
    "category": "Compute optimized",
    "gpuNum": 0,
    "hideHardwareSpecs": false,
    "memoryGiB": 16,
    "name": "ml.c5.2xlarge",
    "vcpuNum": 8
   },
   {
    "_defaultOrder": 24,
    "_isFastLaunch": false,
    "category": "Compute optimized",
    "gpuNum": 0,
    "hideHardwareSpecs": false,
    "memoryGiB": 32,
    "name": "ml.c5.4xlarge",
    "vcpuNum": 16
   },
   {
    "_defaultOrder": 25,
    "_isFastLaunch": false,
    "category": "Compute optimized",
    "gpuNum": 0,
    "hideHardwareSpecs": false,
    "memoryGiB": 72,
    "name": "ml.c5.9xlarge",
    "vcpuNum": 36
   },
   {
    "_defaultOrder": 26,
    "_isFastLaunch": false,
    "category": "Compute optimized",
    "gpuNum": 0,
    "hideHardwareSpecs": false,
    "memoryGiB": 96,
    "name": "ml.c5.12xlarge",
    "vcpuNum": 48
   },
   {
    "_defaultOrder": 27,
    "_isFastLaunch": false,
    "category": "Compute optimized",
    "gpuNum": 0,
    "hideHardwareSpecs": false,
    "memoryGiB": 144,
    "name": "ml.c5.18xlarge",
    "vcpuNum": 72
   },
   {
    "_defaultOrder": 28,
    "_isFastLaunch": false,
    "category": "Compute optimized",
    "gpuNum": 0,
    "hideHardwareSpecs": false,
    "memoryGiB": 192,
    "name": "ml.c5.24xlarge",
    "vcpuNum": 96
   },
   {
    "_defaultOrder": 29,
    "_isFastLaunch": true,
    "category": "Accelerated computing",
    "gpuNum": 1,
    "hideHardwareSpecs": false,
    "memoryGiB": 16,
    "name": "ml.g4dn.xlarge",
    "vcpuNum": 4
   },
   {
    "_defaultOrder": 30,
    "_isFastLaunch": false,
    "category": "Accelerated computing",
    "gpuNum": 1,
    "hideHardwareSpecs": false,
    "memoryGiB": 32,
    "name": "ml.g4dn.2xlarge",
    "vcpuNum": 8
   },
   {
    "_defaultOrder": 31,
    "_isFastLaunch": false,
    "category": "Accelerated computing",
    "gpuNum": 1,
    "hideHardwareSpecs": false,
    "memoryGiB": 64,
    "name": "ml.g4dn.4xlarge",
    "vcpuNum": 16
   },
   {
    "_defaultOrder": 32,
    "_isFastLaunch": false,
    "category": "Accelerated computing",
    "gpuNum": 1,
    "hideHardwareSpecs": false,
    "memoryGiB": 128,
    "name": "ml.g4dn.8xlarge",
    "vcpuNum": 32
   },
   {
    "_defaultOrder": 33,
    "_isFastLaunch": false,
    "category": "Accelerated computing",
    "gpuNum": 4,
    "hideHardwareSpecs": false,
    "memoryGiB": 192,
    "name": "ml.g4dn.12xlarge",
    "vcpuNum": 48
   },
   {
    "_defaultOrder": 34,
    "_isFastLaunch": false,
    "category": "Accelerated computing",
    "gpuNum": 1,
    "hideHardwareSpecs": false,
    "memoryGiB": 256,
    "name": "ml.g4dn.16xlarge",
    "vcpuNum": 64
   },
   {
    "_defaultOrder": 35,
    "_isFastLaunch": false,
    "category": "Accelerated computing",
    "gpuNum": 1,
    "hideHardwareSpecs": false,
    "memoryGiB": 61,
    "name": "ml.p3.2xlarge",
    "vcpuNum": 8
   },
   {
    "_defaultOrder": 36,
    "_isFastLaunch": false,
    "category": "Accelerated computing",
    "gpuNum": 4,
    "hideHardwareSpecs": false,
    "memoryGiB": 244,
    "name": "ml.p3.8xlarge",
    "vcpuNum": 32
   },
   {
    "_defaultOrder": 37,
    "_isFastLaunch": false,
    "category": "Accelerated computing",
    "gpuNum": 8,
    "hideHardwareSpecs": false,
    "memoryGiB": 488,
    "name": "ml.p3.16xlarge",
    "vcpuNum": 64
   },
   {
    "_defaultOrder": 38,
    "_isFastLaunch": false,
    "category": "Accelerated computing",
    "gpuNum": 8,
    "hideHardwareSpecs": false,
    "memoryGiB": 768,
    "name": "ml.p3dn.24xlarge",
    "vcpuNum": 96
   },
   {
    "_defaultOrder": 39,
    "_isFastLaunch": false,
    "category": "Memory Optimized",
    "gpuNum": 0,
    "hideHardwareSpecs": false,
    "memoryGiB": 16,
    "name": "ml.r5.large",
    "vcpuNum": 2
   },
   {
    "_defaultOrder": 40,
    "_isFastLaunch": false,
    "category": "Memory Optimized",
    "gpuNum": 0,
    "hideHardwareSpecs": false,
    "memoryGiB": 32,
    "name": "ml.r5.xlarge",
    "vcpuNum": 4
   },
   {
    "_defaultOrder": 41,
    "_isFastLaunch": false,
    "category": "Memory Optimized",
    "gpuNum": 0,
    "hideHardwareSpecs": false,
    "memoryGiB": 64,
    "name": "ml.r5.2xlarge",
    "vcpuNum": 8
   },
   {
    "_defaultOrder": 42,
    "_isFastLaunch": false,
    "category": "Memory Optimized",
    "gpuNum": 0,
    "hideHardwareSpecs": false,
    "memoryGiB": 128,
    "name": "ml.r5.4xlarge",
    "vcpuNum": 16
   },
   {
    "_defaultOrder": 43,
    "_isFastLaunch": false,
    "category": "Memory Optimized",
    "gpuNum": 0,
    "hideHardwareSpecs": false,
    "memoryGiB": 256,
    "name": "ml.r5.8xlarge",
    "vcpuNum": 32
   },
   {
    "_defaultOrder": 44,
    "_isFastLaunch": false,
    "category": "Memory Optimized",
    "gpuNum": 0,
    "hideHardwareSpecs": false,
    "memoryGiB": 384,
    "name": "ml.r5.12xlarge",
    "vcpuNum": 48
   },
   {
    "_defaultOrder": 45,
    "_isFastLaunch": false,
    "category": "Memory Optimized",
    "gpuNum": 0,
    "hideHardwareSpecs": false,
    "memoryGiB": 512,
    "name": "ml.r5.16xlarge",
    "vcpuNum": 64
   },
   {
    "_defaultOrder": 46,
    "_isFastLaunch": false,
    "category": "Memory Optimized",
    "gpuNum": 0,
    "hideHardwareSpecs": false,
    "memoryGiB": 768,
    "name": "ml.r5.24xlarge",
    "vcpuNum": 96
   },
   {
    "_defaultOrder": 47,
    "_isFastLaunch": false,
    "category": "Accelerated computing",
    "gpuNum": 1,
    "hideHardwareSpecs": false,
    "memoryGiB": 16,
    "name": "ml.g5.xlarge",
    "vcpuNum": 4
   },
   {
    "_defaultOrder": 48,
    "_isFastLaunch": false,
    "category": "Accelerated computing",
    "gpuNum": 1,
    "hideHardwareSpecs": false,
    "memoryGiB": 32,
    "name": "ml.g5.2xlarge",
    "vcpuNum": 8
   },
   {
    "_defaultOrder": 49,
    "_isFastLaunch": false,
    "category": "Accelerated computing",
    "gpuNum": 1,
    "hideHardwareSpecs": false,
    "memoryGiB": 64,
    "name": "ml.g5.4xlarge",
    "vcpuNum": 16
   },
   {
    "_defaultOrder": 50,
    "_isFastLaunch": false,
    "category": "Accelerated computing",
    "gpuNum": 1,
    "hideHardwareSpecs": false,
    "memoryGiB": 128,
    "name": "ml.g5.8xlarge",
    "vcpuNum": 32
   },
   {
    "_defaultOrder": 51,
    "_isFastLaunch": false,
    "category": "Accelerated computing",
    "gpuNum": 1,
    "hideHardwareSpecs": false,
    "memoryGiB": 256,
    "name": "ml.g5.16xlarge",
    "vcpuNum": 64
   },
   {
    "_defaultOrder": 52,
    "_isFastLaunch": false,
    "category": "Accelerated computing",
    "gpuNum": 4,
    "hideHardwareSpecs": false,
    "memoryGiB": 192,
    "name": "ml.g5.12xlarge",
    "vcpuNum": 48
   },
   {
    "_defaultOrder": 53,
    "_isFastLaunch": false,
    "category": "Accelerated computing",
    "gpuNum": 4,
    "hideHardwareSpecs": false,
    "memoryGiB": 384,
    "name": "ml.g5.24xlarge",
    "vcpuNum": 96
   },
   {
    "_defaultOrder": 54,
    "_isFastLaunch": false,
    "category": "Accelerated computing",
    "gpuNum": 8,
    "hideHardwareSpecs": false,
    "memoryGiB": 768,
    "name": "ml.g5.48xlarge",
    "vcpuNum": 192
   },
   {
    "_defaultOrder": 55,
    "_isFastLaunch": false,
    "category": "Accelerated computing",
    "gpuNum": 8,
    "hideHardwareSpecs": false,
    "memoryGiB": 1152,
    "name": "ml.p4d.24xlarge",
    "vcpuNum": 96
   },
   {
    "_defaultOrder": 56,
    "_isFastLaunch": false,
    "category": "Accelerated computing",
    "gpuNum": 8,
    "hideHardwareSpecs": false,
    "memoryGiB": 1152,
    "name": "ml.p4de.24xlarge",
    "vcpuNum": 96
   },
   {
    "_defaultOrder": 57,
    "_isFastLaunch": false,
    "category": "Accelerated computing",
    "gpuNum": 0,
    "hideHardwareSpecs": false,
    "memoryGiB": 32,
    "name": "ml.trn1.2xlarge",
    "vcpuNum": 8
   },
   {
    "_defaultOrder": 58,
    "_isFastLaunch": false,
    "category": "Accelerated computing",
    "gpuNum": 0,
    "hideHardwareSpecs": false,
    "memoryGiB": 512,
    "name": "ml.trn1.32xlarge",
    "vcpuNum": 128
   },
   {
    "_defaultOrder": 59,
    "_isFastLaunch": false,
    "category": "Accelerated computing",
    "gpuNum": 0,
    "hideHardwareSpecs": false,
    "memoryGiB": 512,
    "name": "ml.trn1n.32xlarge",
    "vcpuNum": 128
   }
  ],
  "instance_type": "ml.t3.medium",
  "kernelspec": {
   "display_name": "conda_python3",
   "language": "python",
   "name": "conda_python3"
  },
  "language_info": {
   "codemirror_mode": {
    "name": "ipython",
    "version": 3
   },
   "file_extension": ".py",
   "mimetype": "text/x-python",
   "name": "python",
   "nbconvert_exporter": "python",
   "pygments_lexer": "ipython3",
   "version": "3.10.13"
  }
 },
 "nbformat": 4,
 "nbformat_minor": 5
}
